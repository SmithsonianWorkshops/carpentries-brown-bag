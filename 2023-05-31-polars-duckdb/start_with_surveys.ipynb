{
 "cells": [
  {
   "cell_type": "code",
   "execution_count": 1,
   "metadata": {},
   "outputs": [],
   "source": [
    "import pandas as pd"
   ]
  },
  {
   "cell_type": "code",
   "execution_count": 2,
   "metadata": {},
   "outputs": [
    {
     "name": "stdout",
     "output_type": "stream",
     "text": [
      "<class 'pandas.core.frame.DataFrame'>\n",
      "RangeIndex: 35549 entries, 0 to 35548\n",
      "Data columns (total 9 columns):\n",
      " #   Column           Non-Null Count  Dtype  \n",
      "---  ------           --------------  -----  \n",
      " 0   record_id        35549 non-null  int64  \n",
      " 1   month            35549 non-null  int64  \n",
      " 2   day              35549 non-null  int64  \n",
      " 3   year             35549 non-null  int64  \n",
      " 4   plot_id          35549 non-null  int64  \n",
      " 5   species_id       34786 non-null  object \n",
      " 6   sex              33038 non-null  object \n",
      " 7   hindfoot_length  31438 non-null  float64\n",
      " 8   weight           32283 non-null  float64\n",
      "dtypes: float64(2), int64(5), object(2)\n",
      "memory usage: 2.4+ MB\n"
     ]
    }
   ],
   "source": [
    "surveys_df = pd.read_csv('surveys.csv')\n",
    "surveys_df.info()"
   ]
  },
  {
   "cell_type": "code",
   "execution_count": 8,
   "metadata": {},
   "outputs": [
    {
     "data": {
      "text/html": [
       "<div>\n",
       "<style scoped>\n",
       "    .dataframe tbody tr th:only-of-type {\n",
       "        vertical-align: middle;\n",
       "    }\n",
       "\n",
       "    .dataframe tbody tr th {\n",
       "        vertical-align: top;\n",
       "    }\n",
       "\n",
       "    .dataframe thead th {\n",
       "        text-align: right;\n",
       "    }\n",
       "</style>\n",
       "<table border=\"1\" class=\"dataframe\">\n",
       "  <thead>\n",
       "    <tr style=\"text-align: right;\">\n",
       "      <th></th>\n",
       "      <th>plot_id</th>\n",
       "      <th>species_id</th>\n",
       "      <th>sex</th>\n",
       "      <th>weight</th>\n",
       "    </tr>\n",
       "  </thead>\n",
       "  <tbody>\n",
       "    <tr>\n",
       "      <th>33048</th>\n",
       "      <td>12</td>\n",
       "      <td>NL</td>\n",
       "      <td>M</td>\n",
       "      <td>280.0</td>\n",
       "    </tr>\n",
       "    <tr>\n",
       "      <th>30174</th>\n",
       "      <td>2</td>\n",
       "      <td>NL</td>\n",
       "      <td>M</td>\n",
       "      <td>265.0</td>\n",
       "    </tr>\n",
       "    <tr>\n",
       "      <th>31861</th>\n",
       "      <td>2</td>\n",
       "      <td>NL</td>\n",
       "      <td>F</td>\n",
       "      <td>252.0</td>\n",
       "    </tr>\n",
       "    <tr>\n",
       "      <th>35211</th>\n",
       "      <td>2</td>\n",
       "      <td>NL</td>\n",
       "      <td>M</td>\n",
       "      <td>248.0</td>\n",
       "    </tr>\n",
       "    <tr>\n",
       "      <th>27761</th>\n",
       "      <td>12</td>\n",
       "      <td>NL</td>\n",
       "      <td>F</td>\n",
       "      <td>238.0</td>\n",
       "    </tr>\n",
       "  </tbody>\n",
       "</table>\n",
       "</div>"
      ],
      "text/plain": [
       "       plot_id species_id sex  weight\n",
       "33048       12         NL   M   280.0\n",
       "30174        2         NL   M   265.0\n",
       "31861        2         NL   F   252.0\n",
       "35211        2         NL   M   248.0\n",
       "27761       12         NL   F   238.0"
      ]
     },
     "execution_count": 8,
     "metadata": {},
     "output_type": "execute_result"
    }
   ],
   "source": [
    "surveys_df[(surveys_df['year'] > 1990) & \\\n",
    "           (surveys_df['weight'] > 40)][['plot_id',\n",
    "                                         'species_id',\n",
    "                                         'sex',\n",
    "                                         'weight']].sort_values('weight', ascending=False).head(5)"
   ]
  },
  {
   "attachments": {},
   "cell_type": "markdown",
   "metadata": {},
   "source": [
    "Now let's do the same thing with Polars..."
   ]
  },
  {
   "cell_type": "code",
   "execution_count": 9,
   "metadata": {},
   "outputs": [],
   "source": [
    "import polars as pl"
   ]
  },
  {
   "cell_type": "code",
   "execution_count": 13,
   "metadata": {},
   "outputs": [
    {
     "data": {
      "text/plain": [
       "{'record_id': Int64,\n",
       " 'month': Int64,\n",
       " 'day': Int64,\n",
       " 'year': Int64,\n",
       " 'plot_id': Int64,\n",
       " 'species_id': Utf8,\n",
       " 'sex': Utf8,\n",
       " 'hindfoot_length': Int64,\n",
       " 'weight': Int64}"
      ]
     },
     "execution_count": 13,
     "metadata": {},
     "output_type": "execute_result"
    }
   ],
   "source": [
    "surveys_polar = pl.scan_csv('surveys.csv')\n",
    "surveys_polar.schema"
   ]
  },
  {
   "cell_type": "code",
   "execution_count": 14,
   "metadata": {},
   "outputs": [
    {
     "data": {
      "text/html": [
       "<h4>NAIVE QUERY PLAN</h4><p>run <b>LazyFrame.show_graph()</b> to see the optimized version</p><?xml version=\"1.0\" encoding=\"UTF-8\" standalone=\"no\"?>\r\n",
       "<!DOCTYPE svg PUBLIC \"-//W3C//DTD SVG 1.1//EN\"\r\n",
       " \"http://www.w3.org/Graphics/SVG/1.1/DTD/svg11.dtd\">\r\n",
       "<!-- Generated by graphviz version 8.0.5 (0)\r\n",
       " -->\r\n",
       "<!-- Title: polars_query Pages: 1 -->\r\n",
       "<svg width=\"161pt\" height=\"138pt\"\r\n",
       " viewBox=\"0.00 0.00 160.50 137.50\" xmlns=\"http://www.w3.org/2000/svg\" xmlns:xlink=\"http://www.w3.org/1999/xlink\">\r\n",
       "<g id=\"graph0\" class=\"graph\" transform=\"scale(1 1) rotate(0) translate(4 133.5)\">\r\n",
       "<title>polars_query</title>\r\n",
       "<polygon fill=\"white\" stroke=\"none\" points=\"-4,4 -4,-133.5 156.5,-133.5 156.5,4 -4,4\"/>\r\n",
       "<!-- SLICE offset: 0; len: 5 [(0, 0)] -->\r\n",
       "<g id=\"node1\" class=\"node\">\r\n",
       "<title>SLICE offset: 0; len: 5 [(0, 0)]</title>\r\n",
       "<polygon fill=\"none\" stroke=\"black\" points=\"146.5,-129.5 6,-129.5 6,-93.5 146.5,-93.5 146.5,-129.5\"/>\r\n",
       "<text text-anchor=\"middle\" x=\"76.25\" y=\"-106.45\" font-family=\"Times New Roman,serif\" font-size=\"14.00\">SLICE offset: 0; len: 5</text>\r\n",
       "</g>\r\n",
       "<!-- CSV SCAN surveys.csv;\r\n",
       "π */9;\r\n",
       "σ &#45; [(0, 1)] -->\r\n",
       "<g id=\"node2\" class=\"node\">\r\n",
       "<title>CSV SCAN surveys.csv;\r\n",
       "π */9;\r\n",
       "σ &#45; [(0, 1)]</title>\r\n",
       "<polygon fill=\"none\" stroke=\"black\" points=\"152.5,-57.5 0,-57.5 0,0 152.5,0 152.5,-57.5\"/>\r\n",
       "<text text-anchor=\"middle\" x=\"76.25\" y=\"-40.2\" font-family=\"Times New Roman,serif\" font-size=\"14.00\">CSV SCAN surveys.csv;</text>\r\n",
       "<text text-anchor=\"middle\" x=\"76.25\" y=\"-23.7\" font-family=\"Times New Roman,serif\" font-size=\"14.00\">π */9;</text>\r\n",
       "<text text-anchor=\"middle\" x=\"76.25\" y=\"-7.2\" font-family=\"Times New Roman,serif\" font-size=\"14.00\">σ &#45;</text>\r\n",
       "</g>\r\n",
       "<!-- SLICE offset: 0; len: 5 [(0, 0)]&#45;&#45;CSV SCAN surveys.csv;\r\n",
       "π */9;\r\n",
       "σ &#45; [(0, 1)] -->\r\n",
       "<g id=\"edge1\" class=\"edge\">\r\n",
       "<title>SLICE offset: 0; len: 5 [(0, 0)]&#45;&#45;CSV SCAN surveys.csv;\r\n",
       "π */9;\r\n",
       "σ &#45; [(0, 1)]</title>\r\n",
       "<path fill=\"none\" stroke=\"black\" d=\"M76.25,-93.38C76.25,-83.1 76.25,-69.77 76.25,-57.97\"/>\r\n",
       "</g>\r\n",
       "</g>\r\n",
       "</svg>\r\n"
      ],
      "text/plain": [
       "<polars.LazyFrame object at 0x129E1368610>"
      ]
     },
     "execution_count": 14,
     "metadata": {},
     "output_type": "execute_result"
    }
   ],
   "source": [
    "surveys_polar.head()"
   ]
  },
  {
   "cell_type": "code",
   "execution_count": 15,
   "metadata": {},
   "outputs": [
    {
     "data": {
      "text/html": [
       "<div><style>\n",
       ".dataframe > thead > tr > th,\n",
       ".dataframe > tbody > tr > td {\n",
       "  text-align: right;\n",
       "}\n",
       "</style>\n",
       "<small>shape: (5, 9)</small><table border=\"1\" class=\"dataframe\"><thead><tr><th>record_id</th><th>month</th><th>day</th><th>year</th><th>plot_id</th><th>species_id</th><th>sex</th><th>hindfoot_length</th><th>weight</th></tr><tr><td>i64</td><td>i64</td><td>i64</td><td>i64</td><td>i64</td><td>str</td><td>str</td><td>i64</td><td>i64</td></tr></thead><tbody><tr><td>1</td><td>7</td><td>16</td><td>1977</td><td>2</td><td>&quot;NL&quot;</td><td>&quot;M&quot;</td><td>32</td><td>null</td></tr><tr><td>2</td><td>7</td><td>16</td><td>1977</td><td>3</td><td>&quot;NL&quot;</td><td>&quot;M&quot;</td><td>33</td><td>null</td></tr><tr><td>3</td><td>7</td><td>16</td><td>1977</td><td>2</td><td>&quot;DM&quot;</td><td>&quot;F&quot;</td><td>37</td><td>null</td></tr><tr><td>4</td><td>7</td><td>16</td><td>1977</td><td>7</td><td>&quot;DM&quot;</td><td>&quot;M&quot;</td><td>36</td><td>null</td></tr><tr><td>5</td><td>7</td><td>16</td><td>1977</td><td>3</td><td>&quot;DM&quot;</td><td>&quot;M&quot;</td><td>35</td><td>null</td></tr></tbody></table></div>"
      ],
      "text/plain": [
       "shape: (5, 9)\n",
       "┌───────────┬───────┬─────┬──────┬───┬────────────┬─────┬─────────────────┬────────┐\n",
       "│ record_id ┆ month ┆ day ┆ year ┆ … ┆ species_id ┆ sex ┆ hindfoot_length ┆ weight │\n",
       "│ ---       ┆ ---   ┆ --- ┆ ---  ┆   ┆ ---        ┆ --- ┆ ---             ┆ ---    │\n",
       "│ i64       ┆ i64   ┆ i64 ┆ i64  ┆   ┆ str        ┆ str ┆ i64             ┆ i64    │\n",
       "╞═══════════╪═══════╪═════╪══════╪═══╪════════════╪═════╪═════════════════╪════════╡\n",
       "│ 1         ┆ 7     ┆ 16  ┆ 1977 ┆ … ┆ NL         ┆ M   ┆ 32              ┆ null   │\n",
       "│ 2         ┆ 7     ┆ 16  ┆ 1977 ┆ … ┆ NL         ┆ M   ┆ 33              ┆ null   │\n",
       "│ 3         ┆ 7     ┆ 16  ┆ 1977 ┆ … ┆ DM         ┆ F   ┆ 37              ┆ null   │\n",
       "│ 4         ┆ 7     ┆ 16  ┆ 1977 ┆ … ┆ DM         ┆ M   ┆ 36              ┆ null   │\n",
       "│ 5         ┆ 7     ┆ 16  ┆ 1977 ┆ … ┆ DM         ┆ M   ┆ 35              ┆ null   │\n",
       "└───────────┴───────┴─────┴──────┴───┴────────────┴─────┴─────────────────┴────────┘"
      ]
     },
     "execution_count": 15,
     "metadata": {},
     "output_type": "execute_result"
    }
   ],
   "source": [
    "surveys_polar.head().collect()"
   ]
  },
  {
   "cell_type": "code",
   "execution_count": 19,
   "metadata": {},
   "outputs": [],
   "source": [
    "q = (surveys_polar\n",
    "     .filter((pl.col('year') > 2000) & (pl.col('weight') > 40))\n",
    "     .select('plot_id','species_id','sex','weight')\n",
    "     .sort('weight', descending=True)\n",
    "    )"
   ]
  },
  {
   "cell_type": "code",
   "execution_count": 20,
   "metadata": {},
   "outputs": [
    {
     "data": {
      "text/plain": [
       "'SORT BY [col(\"weight\")]\\n  FAST_PROJECT: [plot_id, species_id, sex, weight]\\n\\n      CSV SCAN surveys.csv\\n      PROJECT 5/9 COLUMNS\\n      SELECTION: [([(col(\"year\")) > (2000)]) & ([(col(\"weight\")) > (40)])]'"
      ]
     },
     "execution_count": 20,
     "metadata": {},
     "output_type": "execute_result"
    }
   ],
   "source": [
    "q.explain()"
   ]
  },
  {
   "cell_type": "code",
   "execution_count": 21,
   "metadata": {},
   "outputs": [
    {
     "data": {
      "image/svg+xml": [
       "<svg xmlns=\"http://www.w3.org/2000/svg\" xmlns:xlink=\"http://www.w3.org/1999/xlink\" width=\"308pt\" height=\"210pt\" viewBox=\"0.00 0.00 307.50 209.50\">\n",
       "<g id=\"graph0\" class=\"graph\" transform=\"scale(1 1) rotate(0) translate(4 205.5)\">\n",
       "<title>polars_query</title>\n",
       "<polygon fill=\"white\" stroke=\"none\" points=\"-4,4 -4,-205.5 303.5,-205.5 303.5,4 -4,4\"/>\n",
       "<!-- SORT BY [col(&quot;weight&quot;)] [(0, 0)] -->\n",
       "<g id=\"node1\" class=\"node\">\n",
       "<title>SORT BY [col(&quot;weight&quot;)] [(0, 0)]</title>\n",
       "<polygon fill=\"none\" stroke=\"black\" points=\"229.38,-201.5 70.12,-201.5 70.12,-165.5 229.38,-165.5 229.38,-201.5\"/>\n",
       "<text text-anchor=\"middle\" x=\"149.75\" y=\"-178.45\" font-family=\"Times New Roman,serif\" font-size=\"14.00\">SORT BY [col(&quot;weight&quot;)]</text>\n",
       "</g>\n",
       "<!-- FAST_PROJECT: [plot_id, species_id, sex, weight] [(0, 1)] -->\n",
       "<g id=\"node2\" class=\"node\">\n",
       "<title>FAST_PROJECT: [plot_id, species_id, sex, weight] [(0, 1)]</title>\n",
       "<polygon fill=\"none\" stroke=\"black\" points=\"299.5,-129.5 0,-129.5 0,-93.5 299.5,-93.5 299.5,-129.5\"/>\n",
       "<text text-anchor=\"middle\" x=\"149.75\" y=\"-106.45\" font-family=\"Times New Roman,serif\" font-size=\"14.00\">FAST_PROJECT: [plot_id, species_id, sex, weight]</text>\n",
       "</g>\n",
       "<!-- SORT BY [col(&quot;weight&quot;)] [(0, 0)]&#45;&#45;FAST_PROJECT: [plot_id, species_id, sex, weight] [(0, 1)] -->\n",
       "<g id=\"edge1\" class=\"edge\">\n",
       "<title>SORT BY [col(&quot;weight&quot;)] [(0, 0)]--FAST_PROJECT: [plot_id, species_id, sex, weight] [(0, 1)]</title>\n",
       "<path fill=\"none\" stroke=\"black\" d=\"M149.75,-165.2C149.75,-154.35 149.75,-140.42 149.75,-129.6\"/>\n",
       "</g>\n",
       "<!-- CSV SCAN surveys.csv;\n",
       "π 5/9;\n",
       "σ ((col(&quot;year&quot;)) &gt; (2000)) ... [(0, 2)] -->\n",
       "<g id=\"node3\" class=\"node\">\n",
       "<title>CSV SCAN surveys.csv;\n",
       "π 5/9;\n",
       "σ ((col(&quot;year&quot;)) &gt; (2000)) ... [(0, 2)]</title>\n",
       "<polygon fill=\"none\" stroke=\"black\" points=\"236.12,-57.5 63.38,-57.5 63.38,0 236.12,0 236.12,-57.5\"/>\n",
       "<text text-anchor=\"middle\" x=\"149.75\" y=\"-40.2\" font-family=\"Times New Roman,serif\" font-size=\"14.00\">CSV SCAN surveys.csv;</text>\n",
       "<text text-anchor=\"middle\" x=\"149.75\" y=\"-23.7\" font-family=\"Times New Roman,serif\" font-size=\"14.00\">π 5/9;</text>\n",
       "<text text-anchor=\"middle\" x=\"149.75\" y=\"-7.2\" font-family=\"Times New Roman,serif\" font-size=\"14.00\">σ ((col(&quot;year&quot;)) &gt; (2000)) ...</text>\n",
       "</g>\n",
       "<!-- FAST_PROJECT: [plot_id, species_id, sex, weight] [(0, 1)]&#45;&#45;CSV SCAN surveys.csv;\n",
       "π 5/9;\n",
       "σ ((col(&quot;year&quot;)) &gt; (2000)) ... [(0, 2)] -->\n",
       "<g id=\"edge2\" class=\"edge\">\n",
       "<title>FAST_PROJECT: [plot_id, species_id, sex, weight] [(0, 1)]--CSV SCAN surveys.csv;\n",
       "π 5/9;\n",
       "σ ((col(&quot;year&quot;)) &gt; (2000)) ... [(0, 2)]</title>\n",
       "<path fill=\"none\" stroke=\"black\" d=\"M149.75,-93.38C149.75,-83.1 149.75,-69.77 149.75,-57.97\"/>\n",
       "</g>\n",
       "</g>\n",
       "</svg>"
      ],
      "text/plain": [
       "<IPython.core.display.SVG object>"
      ]
     },
     "metadata": {},
     "output_type": "display_data"
    }
   ],
   "source": [
    "q.show_graph()"
   ]
  },
  {
   "cell_type": "code",
   "execution_count": 22,
   "metadata": {},
   "outputs": [
    {
     "data": {
      "text/html": [
       "<div><style>\n",
       ".dataframe > thead > tr > th,\n",
       ".dataframe > tbody > tr > td {\n",
       "  text-align: right;\n",
       "}\n",
       "</style>\n",
       "<small>shape: (5, 4)</small><table border=\"1\" class=\"dataframe\"><thead><tr><th>plot_id</th><th>species_id</th><th>sex</th><th>weight</th></tr><tr><td>i64</td><td>str</td><td>str</td><td>i64</td></tr></thead><tbody><tr><td>12</td><td>&quot;NL&quot;</td><td>&quot;M&quot;</td><td>280</td></tr><tr><td>2</td><td>&quot;NL&quot;</td><td>&quot;F&quot;</td><td>252</td></tr><tr><td>2</td><td>&quot;NL&quot;</td><td>&quot;M&quot;</td><td>248</td></tr><tr><td>2</td><td>&quot;NL&quot;</td><td>&quot;M&quot;</td><td>238</td></tr><tr><td>1</td><td>&quot;NL&quot;</td><td>&quot;M&quot;</td><td>231</td></tr></tbody></table></div>"
      ],
      "text/plain": [
       "shape: (5, 4)\n",
       "┌─────────┬────────────┬─────┬────────┐\n",
       "│ plot_id ┆ species_id ┆ sex ┆ weight │\n",
       "│ ---     ┆ ---        ┆ --- ┆ ---    │\n",
       "│ i64     ┆ str        ┆ str ┆ i64    │\n",
       "╞═════════╪════════════╪═════╪════════╡\n",
       "│ 12      ┆ NL         ┆ M   ┆ 280    │\n",
       "│ 2       ┆ NL         ┆ F   ┆ 252    │\n",
       "│ 2       ┆ NL         ┆ M   ┆ 248    │\n",
       "│ 2       ┆ NL         ┆ M   ┆ 238    │\n",
       "│ 1       ┆ NL         ┆ M   ┆ 231    │\n",
       "└─────────┴────────────┴─────┴────────┘"
      ]
     },
     "execution_count": 22,
     "metadata": {},
     "output_type": "execute_result"
    }
   ],
   "source": [
    "q.collect().head()"
   ]
  },
  {
   "cell_type": "code",
   "execution_count": 23,
   "metadata": {},
   "outputs": [
    {
     "data": {
      "text/html": [
       "<div>\n",
       "<style scoped>\n",
       "    .dataframe tbody tr th:only-of-type {\n",
       "        vertical-align: middle;\n",
       "    }\n",
       "\n",
       "    .dataframe tbody tr th {\n",
       "        vertical-align: top;\n",
       "    }\n",
       "\n",
       "    .dataframe thead th {\n",
       "        text-align: right;\n",
       "    }\n",
       "</style>\n",
       "<table border=\"1\" class=\"dataframe\">\n",
       "  <thead>\n",
       "    <tr style=\"text-align: right;\">\n",
       "      <th></th>\n",
       "      <th>plot_id</th>\n",
       "      <th>species_id</th>\n",
       "      <th>sex</th>\n",
       "      <th>weight</th>\n",
       "    </tr>\n",
       "  </thead>\n",
       "  <tbody>\n",
       "    <tr>\n",
       "      <th>0</th>\n",
       "      <td>12</td>\n",
       "      <td>NL</td>\n",
       "      <td>M</td>\n",
       "      <td>280</td>\n",
       "    </tr>\n",
       "    <tr>\n",
       "      <th>1</th>\n",
       "      <td>2</td>\n",
       "      <td>NL</td>\n",
       "      <td>F</td>\n",
       "      <td>252</td>\n",
       "    </tr>\n",
       "    <tr>\n",
       "      <th>2</th>\n",
       "      <td>2</td>\n",
       "      <td>NL</td>\n",
       "      <td>M</td>\n",
       "      <td>248</td>\n",
       "    </tr>\n",
       "    <tr>\n",
       "      <th>3</th>\n",
       "      <td>2</td>\n",
       "      <td>NL</td>\n",
       "      <td>M</td>\n",
       "      <td>238</td>\n",
       "    </tr>\n",
       "    <tr>\n",
       "      <th>4</th>\n",
       "      <td>1</td>\n",
       "      <td>NL</td>\n",
       "      <td>M</td>\n",
       "      <td>231</td>\n",
       "    </tr>\n",
       "  </tbody>\n",
       "</table>\n",
       "</div>"
      ],
      "text/plain": [
       "   plot_id species_id sex  weight\n",
       "0       12         NL   M     280\n",
       "1        2         NL   F     252\n",
       "2        2         NL   M     248\n",
       "3        2         NL   M     238\n",
       "4        1         NL   M     231"
      ]
     },
     "execution_count": 23,
     "metadata": {},
     "output_type": "execute_result"
    }
   ],
   "source": [
    "subset_df = q.collect().to_pandas()\n",
    "subset_df.head()"
   ]
  },
  {
   "attachments": {},
   "cell_type": "markdown",
   "metadata": {},
   "source": [
    "Ok, now let's try to same thing with duckdb"
   ]
  },
  {
   "cell_type": "code",
   "execution_count": 24,
   "metadata": {},
   "outputs": [],
   "source": [
    "import duckdb"
   ]
  },
  {
   "cell_type": "code",
   "execution_count": 25,
   "metadata": {},
   "outputs": [
    {
     "data": {
      "text/plain": [
       "┌─────────┬────────────┬─────────┬────────┐\n",
       "│ plot_id │ species_id │   sex   │ weight │\n",
       "│  int64  │  varchar   │ varchar │ int64  │\n",
       "├─────────┼────────────┼─────────┼────────┤\n",
       "│       2 │ NL         │ M       │   NULL │\n",
       "│       3 │ NL         │ M       │   NULL │\n",
       "│       2 │ DM         │ F       │   NULL │\n",
       "│       7 │ DM         │ M       │   NULL │\n",
       "│       3 │ DM         │ M       │   NULL │\n",
       "│       1 │ PF         │ M       │   NULL │\n",
       "│       2 │ PE         │ F       │   NULL │\n",
       "│       1 │ DM         │ M       │   NULL │\n",
       "│       1 │ DM         │ F       │   NULL │\n",
       "│       6 │ PF         │ F       │   NULL │\n",
       "│       · │ ·          │ ·       │     ·  │\n",
       "│       · │ ·          │ ·       │     ·  │\n",
       "│       · │ ·          │ ·       │     ·  │\n",
       "│       3 │ NL         │ F       │    141 │\n",
       "│       1 │ DM         │ F       │     36 │\n",
       "│       8 │ DO         │ M       │     45 │\n",
       "│       4 │ DM         │ F       │     33 │\n",
       "│       5 │ OL         │ M       │   NULL │\n",
       "│       8 │ DS         │ M       │    150 │\n",
       "│       4 │ DM         │ F       │     35 │\n",
       "│       5 │ DM         │ M       │     44 │\n",
       "│       2 │ PE         │ M       │     16 │\n",
       "│       3 │ RM         │ M       │      5 │\n",
       "├─────────┴────────────┴─────────┴────────┤\n",
       "│      ? rows (>9999 rows, 20 shown)      │\n",
       "└─────────────────────────────────────────┘"
      ]
     },
     "execution_count": 25,
     "metadata": {},
     "output_type": "execute_result"
    }
   ],
   "source": [
    "duckdb.sql(\"\"\"SELECT plot_id, species_id, sex, weight\n",
    "              FROM 'surveys.csv' \"\"\")"
   ]
  },
  {
   "cell_type": "code",
   "execution_count": 29,
   "metadata": {},
   "outputs": [
    {
     "data": {
      "text/html": [
       "<div>\n",
       "<style scoped>\n",
       "    .dataframe tbody tr th:only-of-type {\n",
       "        vertical-align: middle;\n",
       "    }\n",
       "\n",
       "    .dataframe tbody tr th {\n",
       "        vertical-align: top;\n",
       "    }\n",
       "\n",
       "    .dataframe thead th {\n",
       "        text-align: right;\n",
       "    }\n",
       "</style>\n",
       "<table border=\"1\" class=\"dataframe\">\n",
       "  <thead>\n",
       "    <tr style=\"text-align: right;\">\n",
       "      <th></th>\n",
       "      <th>plot_id</th>\n",
       "      <th>species_id</th>\n",
       "      <th>sex</th>\n",
       "      <th>weight</th>\n",
       "    </tr>\n",
       "  </thead>\n",
       "  <tbody>\n",
       "    <tr>\n",
       "      <th>0</th>\n",
       "      <td>12</td>\n",
       "      <td>NL</td>\n",
       "      <td>M</td>\n",
       "      <td>280</td>\n",
       "    </tr>\n",
       "    <tr>\n",
       "      <th>1</th>\n",
       "      <td>2</td>\n",
       "      <td>NL</td>\n",
       "      <td>F</td>\n",
       "      <td>252</td>\n",
       "    </tr>\n",
       "    <tr>\n",
       "      <th>2</th>\n",
       "      <td>2</td>\n",
       "      <td>NL</td>\n",
       "      <td>M</td>\n",
       "      <td>248</td>\n",
       "    </tr>\n",
       "    <tr>\n",
       "      <th>3</th>\n",
       "      <td>2</td>\n",
       "      <td>NL</td>\n",
       "      <td>M</td>\n",
       "      <td>238</td>\n",
       "    </tr>\n",
       "    <tr>\n",
       "      <th>4</th>\n",
       "      <td>1</td>\n",
       "      <td>NL</td>\n",
       "      <td>M</td>\n",
       "      <td>231</td>\n",
       "    </tr>\n",
       "  </tbody>\n",
       "</table>\n",
       "</div>"
      ],
      "text/plain": [
       "   plot_id species_id sex  weight\n",
       "0       12         NL   M     280\n",
       "1        2         NL   F     252\n",
       "2        2         NL   M     248\n",
       "3        2         NL   M     238\n",
       "4        1         NL   M     231"
      ]
     },
     "execution_count": 29,
     "metadata": {},
     "output_type": "execute_result"
    }
   ],
   "source": [
    "duck_subset = duckdb.sql(\"\"\"SELECT plot_id, species_id, sex, weight\n",
    "                            FROM 'surveys.csv' \n",
    "                            WHERE year > 2000 AND weight > 40\n",
    "                            ORDER BY weight DESC\"\"\").df()\n",
    "duck_subset.head()"
   ]
  },
  {
   "cell_type": "code",
   "execution_count": 30,
   "metadata": {},
   "outputs": [],
   "source": [
    "from pyarrow import csv, parquet"
   ]
  },
  {
   "cell_type": "code",
   "execution_count": 32,
   "metadata": {},
   "outputs": [],
   "source": [
    "csv_format = csv.read_csv('surveys.csv')\n",
    "parquet.write_table(csv_format, 'surveys.parquet')"
   ]
  },
  {
   "cell_type": "code",
   "execution_count": 33,
   "metadata": {},
   "outputs": [
    {
     "name": "stdout",
     "output_type": "stream",
     "text": [
      "-rw-r--r-- 1 triznam 1049089 998K May 31 11:12 surveys.csv\n",
      "-rw-r--r-- 1 triznam 1049089 333K May 31 11:44 surveys.parquet\n"
     ]
    }
   ],
   "source": [
    "!ls -alh surveys*"
   ]
  },
  {
   "cell_type": "code",
   "execution_count": null,
   "metadata": {},
   "outputs": [],
   "source": []
  }
 ],
 "metadata": {
  "kernelspec": {
   "display_name": "Python 3 (ipykernel)",
   "language": "python",
   "name": "python3"
  },
  "language_info": {
   "codemirror_mode": {
    "name": "ipython",
    "version": 3
   },
   "file_extension": ".py",
   "mimetype": "text/x-python",
   "name": "python",
   "nbconvert_exporter": "python",
   "pygments_lexer": "ipython3",
   "version": "3.10.11"
  }
 },
 "nbformat": 4,
 "nbformat_minor": 4
}
